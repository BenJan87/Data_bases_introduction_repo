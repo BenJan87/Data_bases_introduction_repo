{
    "metadata": {
        "kernelspec": {
            "name": "SQL",
            "display_name": "SQL",
            "language": "sql"
        },
        "language_info": {
            "name": "sql",
            "version": ""
        }
    },
    "nbformat_minor": 2,
    "nbformat": 4,
    "cells": [
        {
            "cell_type": "markdown",
            "source": [
                "# 0. Cw rozgrzewkowe - warm up:\n",
                "\n",
                "### 1. For each product give the maximum number of its quantity.\n",
                "### 1. Dla każdego produktu podaj maksymalną liczbę zamówionych jednsotek.\n",
                "\n",
                "- First solution"
            ],
            "metadata": {
                "azdata_cell_guid": "abf8d345-fc33-44f2-94d6-e53e5505499b"
            },
            "attachments": {}
        },
        {
            "cell_type": "code",
            "source": [
                "SELECT P.ProductID, P.ProductName ,(\r\n",
                "    SELECT MAX(Quantity) AS MaxQuantity\r\n",
                "    FROM [Order Details] AS OD\r\n",
                "    WHERE P.ProductID = OD.ProductID\r\n",
                ") AS MaxValue\r\n",
                "FROM Products AS P"
            ],
            "metadata": {
                "azdata_cell_guid": "c702bec7-ceae-477f-a879-5421a8fbe5a0",
                "language": "sql",
                "tags": []
            },
            "outputs": [],
            "execution_count": null
        },
        {
            "cell_type": "markdown",
            "source": [
                "- Second solution"
            ],
            "metadata": {
                "language": "sql",
                "azdata_cell_guid": "d633233c-f40f-4756-bb84-48c8bb418a52"
            },
            "attachments": {}
        },
        {
            "cell_type": "code",
            "source": [
                "SELECT DISTINCT productid, quantity\r\n",
                "FROM [order details] AS ord1\r\n",
                "WHERE quantity = ( SELECT MAX(quantity)\r\n",
                "FROM [order details] AS ord2\r\n",
                "WHERE ord1.productid =\r\n",
                "ord2.productid )"
            ],
            "metadata": {
                "language": "sql",
                "azdata_cell_guid": "2186c1e0-ff3d-4a24-a480-61d21b2f9ac2",
                "tags": []
            },
            "outputs": [],
            "execution_count": null
        },
        {
            "cell_type": "markdown",
            "source": [
                "- Third solution using just GROUP BY"
            ],
            "metadata": {
                "language": "sql",
                "azdata_cell_guid": "fe927459-27da-4c8a-aedd-83f5f1dbf441"
            },
            "attachments": {}
        },
        {
            "cell_type": "code",
            "source": [
                "SELECT ProductID, MAX(Quantity) AS MaxQuantity\r\n",
                "FROM [Order Details]\r\n",
                "GROUP BY ProductID"
            ],
            "metadata": {
                "language": "sql",
                "azdata_cell_guid": "e753abd0-fd0b-4f11-92f0-985c3b22abbb"
            },
            "outputs": [],
            "execution_count": null
        },
        {
            "cell_type": "markdown",
            "source": [
                "# Cw1.\n",
                "### 1. Select the names and phone numbers of the clients, whom were delivered the packeges by United Package. \n",
                "\n",
                "### 1. Wybierz nazwy i numery telefonów klientów, którym w 1997 roku przesyłki dostarczała firma United Package."
            ],
            "metadata": {
                "azdata_cell_guid": "35dc3cb9-b4c0-440a-b467-8f801456dfe1"
            },
            "attachments": {}
        },
        {
            "cell_type": "code",
            "source": [
                "SELECT C.CustomerID, C.CompanyName\r\n",
                "FROM Customers AS C\r\n",
                "\r\n",
                "SELECT * FROM Shippers WHERE "
            ],
            "metadata": {
                "azdata_cell_guid": "6ad94f39-e32e-4357-92f1-f588da132996",
                "language": "sql",
                "tags": []
            },
            "outputs": [],
            "execution_count": null
        }
    ]
}