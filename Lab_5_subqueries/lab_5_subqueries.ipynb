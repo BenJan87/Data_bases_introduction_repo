{
    "metadata": {
        "kernelspec": {
            "name": "SQL",
            "display_name": "SQL",
            "language": "sql"
        },
        "language_info": {
            "name": "sql",
            "version": ""
        }
    },
    "nbformat_minor": 2,
    "nbformat": 4,
    "cells": [
        {
            "cell_type": "markdown",
            "source": [
                "# 0. Cw rozgrzewkowe - warm up:\n",
                "\n",
                "### 1. For each product give the maximum number of its quantity.\n",
                "### 1. Dla każdego produktu podaj maksymalną liczbę zamówionych jednsotek.\n",
                "\n",
                "- First solution"
            ],
            "metadata": {
                "azdata_cell_guid": "abf8d345-fc33-44f2-94d6-e53e5505499b"
            },
            "attachments": {}
        },
        {
            "cell_type": "code",
            "source": [
                "USE Northwind;\r\n",
                "SELECT P.ProductID, P.ProductName ,(\r\n",
                "    SELECT MAX(Quantity) AS MaxQuantity\r\n",
                "    FROM [Order Details] AS OD\r\n",
                "    WHERE P.ProductID = OD.ProductID\r\n",
                ") AS MaxValue\r\n",
                "FROM Products AS P"
            ],
            "metadata": {
                "azdata_cell_guid": "c702bec7-ceae-477f-a879-5421a8fbe5a0",
                "language": "sql",
                "tags": []
            },
            "outputs": [],
            "execution_count": null
        },
        {
            "cell_type": "markdown",
            "source": [
                "- Second solution"
            ],
            "metadata": {
                "language": "sql",
                "azdata_cell_guid": "d633233c-f40f-4756-bb84-48c8bb418a52"
            },
            "attachments": {}
        },
        {
            "cell_type": "code",
            "source": [
                "SELECT DISTINCT productid, quantity\r\n",
                "FROM [order details] AS ord1\r\n",
                "WHERE quantity = ( SELECT MAX(quantity)\r\n",
                "FROM [order details] AS ord2\r\n",
                "WHERE ord1.productid =\r\n",
                "ord2.productid )"
            ],
            "metadata": {
                "language": "sql",
                "azdata_cell_guid": "2186c1e0-ff3d-4a24-a480-61d21b2f9ac2",
                "tags": []
            },
            "outputs": [],
            "execution_count": null
        },
        {
            "cell_type": "markdown",
            "source": [
                "- Third solution using just GROUP BY"
            ],
            "metadata": {
                "language": "sql",
                "azdata_cell_guid": "fe927459-27da-4c8a-aedd-83f5f1dbf441"
            },
            "attachments": {}
        },
        {
            "cell_type": "code",
            "source": [
                "SELECT ProductID, MAX(Quantity) AS MaxQuantity\r\n",
                "FROM [Order Details]\r\n",
                "GROUP BY ProductID"
            ],
            "metadata": {
                "language": "sql",
                "azdata_cell_guid": "e753abd0-fd0b-4f11-92f0-985c3b22abbb"
            },
            "outputs": [],
            "execution_count": null
        },
        {
            "cell_type": "markdown",
            "source": [
                "# Cw1.\n",
                "### 1. Select the names and phone numbers of the clients, whom were delivered the packeges by United Package. \n",
                "\n",
                "### 1. Wybierz nazwy i numery telefonów klientów, którym w 1997 roku przesyłki dostarczała firma United Package."
            ],
            "metadata": {
                "azdata_cell_guid": "35dc3cb9-b4c0-440a-b467-8f801456dfe1"
            },
            "attachments": {}
        },
        {
            "cell_type": "code",
            "source": [
                "SELECT DISTINCT C.CustomerID, C.CompanyName, C.Phone, O.ShipVia\r\n",
                "FROM Customers AS C\r\n",
                "JOIN Orders AS O\r\n",
                "ON O.CustomerID = C.CustomerID\r\n",
                "WHERE O.ShipVia = (\r\n",
                "    SELECT SH.ShipperID FROM Shippers AS SH\r\n",
                "    WHERE SH.CompanyName = 'United Package'\r\n",
                ")"
            ],
            "metadata": {
                "azdata_cell_guid": "6ad94f39-e32e-4357-92f1-f588da132996",
                "language": "sql",
                "tags": []
            },
            "outputs": [],
            "execution_count": null
        },
        {
            "cell_type": "markdown",
            "source": [
                "### 2. Wybierz nazwy i numery telefonów klientów, którzy kupowali produkty z kategorii Confections."
            ],
            "metadata": {
                "language": "sql",
                "azdata_cell_guid": "163e0e08-b37e-4bb0-9a11-13061c6db5ca"
            },
            "attachments": {}
        },
        {
            "cell_type": "code",
            "source": [
                "SELECT C.CustomerID, C.CompanyName, C.Phone\r\n",
                "FROM Customers AS C\r\n",
                "WHERE C.CustomerID IN (\r\n",
                "    SELECT DISTINCT C.CustomerID \r\n",
                "    FROM Customers AS C\r\n",
                "    JOIN Orders As O\r\n",
                "    ON O.CustomerID = C.CustomerID\r\n",
                "    JOIN [Order Details] AS OD\r\n",
                "    ON OD.OrderID = O.OrderID\r\n",
                "    JOIN Products AS P\r\n",
                "    ON P.ProductID = OD.ProductID\r\n",
                "    JOIN Categories AS CAT\r\n",
                "    ON P.CategoryID = CAT.CategoryID AND CAT.CategoryName = 'Confections'\r\n",
                "\r\n",
                ")"
            ],
            "metadata": {
                "language": "sql",
                "azdata_cell_guid": "c2ac1cc0-1b9a-465a-a4a7-89700e9ad138"
            },
            "outputs": [],
            "execution_count": null
        },
        {
            "cell_type": "markdown",
            "source": [
                "### 3. Wybierz nazwy i numery telefonów klientów, którzy nie kupowali produktów z kategorii Confections."
            ],
            "metadata": {
                "language": "sql",
                "azdata_cell_guid": "5f3ca727-d32f-4053-bd34-63ab97b59934"
            },
            "attachments": {}
        },
        {
            "cell_type": "code",
            "source": [
                "SELECT C.CustomerID, C.CompanyName, C.Phone\r\n",
                "FROM Customers AS C\r\n",
                "WHERE C.CustomerID NOT IN (\r\n",
                "    SELECT DISTINCT C.CustomerID \r\n",
                "    FROM Customers AS C\r\n",
                "    JOIN Orders As O\r\n",
                "    ON O.CustomerID = C.CustomerID\r\n",
                "    JOIN [Order Details] AS OD\r\n",
                "    ON OD.OrderID = O.OrderID\r\n",
                "    JOIN Products AS P\r\n",
                "    ON P.ProductID = OD.ProductID\r\n",
                "    JOIN Categories AS CAT\r\n",
                "    ON P.CategoryID = CAT.CategoryID AND CAT.CategoryName = 'Confections'\r\n",
                "\r\n",
                ")"
            ],
            "metadata": {
                "language": "sql",
                "azdata_cell_guid": "efcb7586-7b69-4662-922d-9f4a276ddbd1"
            },
            "outputs": [],
            "execution_count": null
        },
        {
            "cell_type": "markdown",
            "source": [
                "### 4. Wybierz nazwy i numery telefonów klientów, którzy nie kupowali produktów z kategorii Confections w 1997 r."
            ],
            "metadata": {
                "language": "sql",
                "azdata_cell_guid": "3a481af6-12d3-458d-b7a1-486491138abd"
            },
            "attachments": {}
        },
        {
            "cell_type": "code",
            "source": [
                ""
            ],
            "metadata": {
                "language": "sql",
                "azdata_cell_guid": "93a68963-afd9-4c53-b025-1b658b56bcc9"
            },
            "outputs": [],
            "execution_count": null
        },
        {
            "cell_type": "markdown",
            "source": [
                "# CW - extra\r\n",
                "\r\n",
                "### 1. Pokaż zamówienia, w których wszystkie pozycje były ze zniżką"
            ],
            "metadata": {
                "language": "sql",
                "azdata_cell_guid": "4d28985f-d3b5-4f4a-b440-6830951c7a70"
            },
            "attachments": {}
        },
        {
            "cell_type": "code",
            "source": [
                "SELECT OrderID\r\n",
                "FROM [Order Details]\r\n",
                "GROUP BY OrderID\r\n",
                "HAVING max(Discount) <> 0"
            ],
            "metadata": {
                "language": "sql",
                "azdata_cell_guid": "d46a0bf6-9426-4deb-99a4-bda970436725",
                "tags": []
            },
            "outputs": [],
            "execution_count": null
        },
        {
            "cell_type": "markdown",
            "source": [
                "### 2. Pokaż zamówienia, w których wszystkie pozycje były bez zniżki"
            ],
            "metadata": {
                "language": "sql",
                "azdata_cell_guid": "53b2b3ee-7d2d-470d-aac8-3d1cc595b6b7"
            },
            "attachments": {}
        },
        {
            "cell_type": "code",
            "source": [
                "SELECT OrderID\r\n",
                "FROM [Order Details]\r\n",
                "GROUP BY OrderID\r\n",
                "HAVING max(Discount) = 0"
            ],
            "metadata": {
                "language": "sql",
                "azdata_cell_guid": "f1b98dc5-fe86-445e-bef4-f4be043314c0"
            },
            "outputs": [],
            "execution_count": null
        },
        {
            "cell_type": "markdown",
            "source": [
                "### 3. Pokaż zamówienia, w których co najmniej jedna pozycje była ze zniżką"
            ],
            "metadata": {
                "language": "sql",
                "azdata_cell_guid": "6120a49a-e940-482b-bd8c-da28d6a3e884"
            },
            "attachments": {}
        },
        {
            "cell_type": "code",
            "source": [
                "SELECT OrderID\r\n",
                "FROM [Order Details]\r\n",
                "GROUP BY OrderID\r\n",
                "HAVING max(Discount) > 0"
            ],
            "metadata": {
                "language": "sql",
                "azdata_cell_guid": "0b5b288b-5ea9-41d9-9aad-85cc38bf5e6d",
                "tags": []
            },
            "outputs": [
{
    "output_type": "display_data",
    "data": {
        "text/html": "(380 rows affected)"
    },
    "metadata": {}
}, {
    "output_type": "display_data",
    "data": {
        "text/html": "Total execution time: 00:00:00.259"
    },
    "metadata": {}
}, {
    "output_type": "execute_result",
    "metadata": {},
    "execution_count": 29,
    "data": {
        "application/vnd.dataresource+json": {
            "schema": {
                "fields": [
                    {
                        "name": "OrderID"
                    }
                ]
            },
            "data": [
                {
                    "0": "10250"
                },
                {
                    "0": "10251"
                },
                {
                    "0": "10252"
                },
                {
                    "0": "10254"
                },
                {
                    "0": "10258"
                },
                {
                    "0": "10260"
                },
                {
                    "0": "10262"
                },
                {
                    "0": "10263"
                },
                {
                    "0": "10264"
                },
                {
                    "0": "10266"
                },
                {
                    "0": "10267"
                },
                {
                    "0": "10269"
                },
                {
                    "0": "10273"
                },
                {
                    "0": "10275"
                },
                {
                    "0": "10279"
                },
                {
                    "0": "10284"
                },
                {
                    "0": "10285"
                },
                {
                    "0": "10287"
                },
                {
                    "0": "10288"
                },
                {
                    "0": "10291"
                },
                {
                    "0": "10298"
                },
                {
                    "0": "10303"
                },
                {
                    "0": "10305"
                },
                {
                    "0": "10314"
                },
                {
                    "0": "10324"
                },
                {
                    "0": "10327"
                },
                {
                    "0": "10329"
                },
                {
                    "0": "10330"
                },
                {
                    "0": "10332"
                },
                {
                    "0": "10333"
                },
                {
                    "0": "10335"
                },
                {
                    "0": "10336"
                },
                {
                    "0": "10339"
                },
                {
                    "0": "10340"
                },
                {
                    "0": "10341"
                },
                {
                    "0": "10342"
                },
                {
                    "0": "10343"
                },
                {
                    "0": "10344"
                },
                {
                    "0": "10346"
                },
                {
                    "0": "10347"
                },
                {
                    "0": "10348"
                },
                {
                    "0": "10350"
                },
                {
                    "0": "10351"
                },
                {
                    "0": "10352"
                },
                {
                    "0": "10353"
                },
                {
                    "0": "10357"
                },
                {
                    "0": "10358"
                },
                {
                    "0": "10359"
                },
                {
                    "0": "10361"
                },
                {
                    "0": "10368"
                },
                {
                    "0": "10369"
                },
                {
                    "0": "10370"
                },
                {
                    "0": "10371"
                },
                {
                    "0": "10372"
                },
                {
                    "0": "10373"
                },
                {
                    "0": "10376"
                },
                {
                    "0": "10377"
                },
                {
                    "0": "10379"
                },
                {
                    "0": "10380"
                },
                {
                    "0": "10385"
                },
                {
                    "0": "10388"
                },
                {
                    "0": "10390"
                },
                {
                    "0": "10393"
                },
                {
                    "0": "10395"
                },
                {
                    "0": "10397"
                },
                {
                    "0": "10398"
                },
                {
                    "0": "10403"
                },
                {
                    "0": "10404"
                },
                {
                    "0": "10406"
                },
                {
                    "0": "10411"
                },
                {
                    "0": "10412"
                },
                {
                    "0": "10414"
                },
                {
                    "0": "10417"
                },
                {
                    "0": "10419"
                },
                {
                    "0": "10420"
                },
                {
                    "0": "10421"
                },
                {
                    "0": "10424"
                },
                {
                    "0": "10425"
                },
                {
                    "0": "10429"
                },
                {
                    "0": "10430"
                },
                {
                    "0": "10431"
                },
                {
                    "0": "10434"
                },
                {
                    "0": "10436"
                },
                {
                    "0": "10438"
                },
                {
                    "0": "10440"
                },
                {
                    "0": "10443"
                },
                {
                    "0": "10446"
                },
                {
                    "0": "10450"
                },
                {
                    "0": "10451"
                },
                {
                    "0": "10452"
                },
                {
                    "0": "10453"
                },
                {
                    "0": "10454"
                },
                {
                    "0": "10456"
                },
                {
                    "0": "10459"
                },
                {
                    "0": "10460"
                },
                {
                    "0": "10461"
                },
                {
                    "0": "10464"
                },
                {
                    "0": "10465"
                },
                {
                    "0": "10469"
                },
                {
                    "0": "10472"
                },
                {
                    "0": "10475"
                },
                {
                    "0": "10476"
                },
                {
                    "0": "10477"
                },
                {
                    "0": "10478"
                },
                {
                    "0": "10483"
                },
                {
                    "0": "10485"
                },
                {
                    "0": "10487"
                },
                {
                    "0": "10488"
                },
                {
                    "0": "10489"
                },
                {
                    "0": "10491"
                },
                {
                    "0": "10492"
                },
                {
                    "0": "10493"
                },
                {
                    "0": "10496"
                },
                {
                    "0": "10500"
                },
                {
                    "0": "10506"
                },
                {
                    "0": "10507"
                },
                {
                    "0": "10510"
                },
                {
                    "0": "10511"
                },
                {
                    "0": "10512"
                },
                {
                    "0": "10513"
                },
                {
                    "0": "10515"
                },
                {
                    "0": "10516"
                },
                {
                    "0": "10519"
                },
                {
                    "0": "10522"
                },
                {
                    "0": "10523"
                },
                {
                    "0": "10525"
                },
                {
                    "0": "10526"
                },
                {
                    "0": "10527"
                },
                {
                    "0": "10528"
                },
                {
                    "0": "10533"
                },
                {
                    "0": "10534"
                },
                {
                    "0": "10535"
                },
                {
                    "0": "10536"
                },
                {
                    "0": "10541"
                },
                {
                    "0": "10542"
                },
                {
                    "0": "10543"
                },
                {
                    "0": "10547"
                },
                {
                    "0": "10548"
                },
                {
                    "0": "10549"
                },
                {
                    "0": "10550"
                },
                {
                    "0": "10551"
                },
                {
                    "0": "10554"
                },
                {
                    "0": "10555"
                },
                {
                    "0": "10559"
                },
                {
                    "0": "10560"
                },
                {
                    "0": "10562"
                },
                {
                    "0": "10564"
                },
                {
                    "0": "10565"
                },
                {
                    "0": "10566"
                },
                {
                    "0": "10567"
                },
                {
                    "0": "10569"
                },
                {
                    "0": "10570"
                },
                {
                    "0": "10571"
                },
                {
                    "0": "10572"
                },
                {
                    "0": "10580"
                },
                {
                    "0": "10581"
                },
                {
                    "0": "10583"
                },
                {
                    "0": "10584"
                },
                {
                    "0": "10586"
                },
                {
                    "0": "10588"
                },
                {
                    "0": "10590"
                },
                {
                    "0": "10592"
                },
                {
                    "0": "10593"
                },
                {
                    "0": "10595"
                },
                {
                    "0": "10596"
                },
                {
                    "0": "10597"
                },
                {
                    "0": "10602"
                },
                {
                    "0": "10603"
                },
                {
                    "0": "10604"
                },
                {
                    "0": "10605"
                },
                {
                    "0": "10606"
                },
                {
                    "0": "10610"
                },
                {
                    "0": "10613"
                },
                {
                    "0": "10616"
                },
                {
                    "0": "10617"
                },
                {
                    "0": "10622"
                },
                {
                    "0": "10623"
                },
                {
                    "0": "10627"
                },
                {
                    "0": "10630"
                },
                {
                    "0": "10631"
                },
                {
                    "0": "10632"
                },
                {
                    "0": "10633"
                },
                {
                    "0": "10635"
                },
                {
                    "0": "10637"
                },
                {
                    "0": "10640"
                },
                {
                    "0": "10642"
                },
                {
                    "0": "10643"
                },
                {
                    "0": "10644"
                },
                {
                    "0": "10646"
                },
                {
                    "0": "10648"
                },
                {
                    "0": "10650"
                },
                {
                    "0": "10651"
                },
                {
                    "0": "10652"
                },
                {
                    "0": "10653"
                },
                {
                    "0": "10654"
                },
                {
                    "0": "10655"
                },
                {
                    "0": "10656"
                },
                {
                    "0": "10658"
                },
                {
                    "0": "10659"
                },
                {
                    "0": "10661"
                },
                {
                    "0": "10663"
                },
                {
                    "0": "10664"
                },
                {
                    "0": "10667"
                },
                {
                    "0": "10668"
                },
                {
                    "0": "10672"
                },
                {
                    "0": "10677"
                },
                {
                    "0": "10680"
                },
                {
                    "0": "10681"
                },
                {
                    "0": "10686"
                },
                {
                    "0": "10687"
                },
                {
                    "0": "10688"
                },
                {
                    "0": "10689"
                },
                {
                    "0": "10690"
                },
                {
                    "0": "10693"
                },
                {
                    "0": "10697"
                },
                {
                    "0": "10698"
                },
                {
                    "0": "10700"
                },
                {
                    "0": "10701"
                },
                {
                    "0": "10707"
                },
                {
                    "0": "10712"
                },
                {
                    "0": "10714"
                },
                {
                    "0": "10717"
                },
                {
                    "0": "10719"
                },
                {
                    "0": "10721"
                },
                {
                    "0": "10727"
                },
                {
                    "0": "10730"
                },
                {
                    "0": "10731"
                },
                {
                    "0": "10735"
                },
                {
                    "0": "10740"
                },
                {
                    "0": "10741"
                },
                {
                    "0": "10743"
                },
                {
                    "0": "10744"
                },
                {
                    "0": "10750"
                },
                {
                    "0": "10751"
                },
                {
                    "0": "10755"
                },
                {
                    "0": "10756"
                },
                {
                    "0": "10760"
                },
                {
                    "0": "10761"
                },
                {
                    "0": "10764"
                },
                {
                    "0": "10765"
                },
                {
                    "0": "10769"
                },
                {
                    "0": "10770"
                },
                {
                    "0": "10773"
                },
                {
                    "0": "10774"
                },
                {
                    "0": "10776"
                },
                {
                    "0": "10777"
                },
                {
                    "0": "10781"
                },
                {
                    "0": "10784"
                },
                {
                    "0": "10786"
                },
                {
                    "0": "10787"
                },
                {
                    "0": "10788"
                },
                {
                    "0": "10790"
                },
                {
                    "0": "10791"
                },
                {
                    "0": "10794"
                },
                {
                    "0": "10795"
                },
                {
                    "0": "10796"
                },
                {
                    "0": "10799"
                },
                {
                    "0": "10800"
                },
                {
                    "0": "10801"
                },
                {
                    "0": "10802"
                },
                {
                    "0": "10803"
                },
                {
                    "0": "10804"
                },
                {
                    "0": "10806"
                },
                {
                    "0": "10808"
                },
                {
                    "0": "10812"
                },
                {
                    "0": "10813"
                },
                {
                    "0": "10814"
                },
                {
                    "0": "10816"
                },
                {
                    "0": "10817"
                },
                {
                    "0": "10823"
                },
                {
                    "0": "10832"
                },
                {
                    "0": "10833"
                },
                {
                    "0": "10834"
                },
                {
                    "0": "10835"
                },
                {
                    "0": "10837"
                },
                {
                    "0": "10838"
                },
                {
                    "0": "10839"
                },
                {
                    "0": "10840"
                },
                {
                    "0": "10843"
                },
                {
                    "0": "10845"
                },
                {
                    "0": "10847"
                },
                {
                    "0": "10849"
                },
                {
                    "0": "10850"
                },
                {
                    "0": "10851"
                },
                {
                    "0": "10854"
                },
                {
                    "0": "10855"
                },
                {
                    "0": "10857"
                },
                {
                    "0": "10859"
                },
                {
                    "0": "10863"
                },
                {
                    "0": "10865"
                },
                {
                    "0": "10866"
                },
                {
                    "0": "10868"
                },
                {
                    "0": "10871"
                },
                {
                    "0": "10872"
                },
                {
                    "0": "10875"
                },
                {
                    "0": "10877"
                },
                {
                    "0": "10878"
                },
                {
                    "0": "10880"
                },
                {
                    "0": "10882"
                },
                {
                    "0": "10884"
                },
                {
                    "0": "10891"
                },
                {
                    "0": "10892"
                },
                {
                    "0": "10894"
                },
                {
                    "0": "10899"
                },
                {
                    "0": "10900"
                },
                {
                    "0": "10902"
                },
                {
                    "0": "10905"
                },
                {
                    "0": "10908"
                },
                {
                    "0": "10912"
                },
                {
                    "0": "10913"
                },
                {
                    "0": "10918"
                },
                {
                    "0": "10923"
                },
                {
                    "0": "10924"
                },
                {
                    "0": "10925"
                },
                {
                    "0": "10930"
                },
                {
                    "0": "10931"
                },
                {
                    "0": "10932"
                },
                {
                    "0": "10935"
                },
                {
                    "0": "10936"
                },
                {
                    "0": "10938"
                },
                {
                    "0": "10939"
                },
                {
                    "0": "10941"
                },
                {
                    "0": "10944"
                },
                {
                    "0": "10951"
                },
                {
                    "0": "10952"
                },
                {
                    "0": "10953"
                },
                {
                    "0": "10954"
                },
                {
                    "0": "10955"
                },
                {
                    "0": "10959"
                },
                {
                    "0": "10960"
                },
                {
                    "0": "10961"
                },
                {
                    "0": "10963"
                },
                {
                    "0": "10966"
                },
                {
                    "0": "10970"
                },
                {
                    "0": "10978"
                },
                {
                    "0": "10980"
                },
                {
                    "0": "10983"
                },
                {
                    "0": "10985"
                },
                {
                    "0": "10988"
                },
                {
                    "0": "10990"
                },
                {
                    "0": "10991"
                },
                {
                    "0": "10993"
                },
                {
                    "0": "10994"
                },
                {
                    "0": "10997"
                },
                {
                    "0": "10999"
                },
                {
                    "0": "11000"
                },
                {
                    "0": "11002"
                },
                {
                    "0": "11006"
                },
                {
                    "0": "11008"
                },
                {
                    "0": "11009"
                },
                {
                    "0": "11011"
                },
                {
                    "0": "11012"
                },
                {
                    "0": "11014"
                },
                {
                    "0": "11020"
                },
                {
                    "0": "11021"
                },
                {
                    "0": "11025"
                },
                {
                    "0": "11027"
                },
                {
                    "0": "11030"
                },
                {
                    "0": "11033"
                },
                {
                    "0": "11034"
                },
                {
                    "0": "11038"
                },
                {
                    "0": "11041"
                },
                {
                    "0": "11046"
                },
                {
                    "0": "11047"
                },
                {
                    "0": "11049"
                },
                {
                    "0": "11050"
                },
                {
                    "0": "11051"
                },
                {
                    "0": "11052"
                },
                {
                    "0": "11053"
                },
                {
                    "0": "11062"
                },
                {
                    "0": "11063"
                },
                {
                    "0": "11064"
                },
                {
                    "0": "11065"
                },
                {
                    "0": "11068"
                },
                {
                    "0": "11070"
                },
                {
                    "0": "11071"
                },
                {
                    "0": "11074"
                },
                {
                    "0": "11075"
                },
                {
                    "0": "11076"
                },
                {
                    "0": "11077"
                }
            ]
        },
        "text/html": [
            "<table>",
            "<tr><th>OrderID</th></tr>",
            "<tr><td>10250</td></tr>",
            "<tr><td>10251</td></tr>",
            "<tr><td>10252</td></tr>",
            "<tr><td>10254</td></tr>",
            "<tr><td>10258</td></tr>",
            "<tr><td>10260</td></tr>",
            "<tr><td>10262</td></tr>",
            "<tr><td>10263</td></tr>",
            "<tr><td>10264</td></tr>",
            "<tr><td>10266</td></tr>",
            "<tr><td>10267</td></tr>",
            "<tr><td>10269</td></tr>",
            "<tr><td>10273</td></tr>",
            "<tr><td>10275</td></tr>",
            "<tr><td>10279</td></tr>",
            "<tr><td>10284</td></tr>",
            "<tr><td>10285</td></tr>",
            "<tr><td>10287</td></tr>",
            "<tr><td>10288</td></tr>",
            "<tr><td>10291</td></tr>",
            "<tr><td>10298</td></tr>",
            "<tr><td>10303</td></tr>",
            "<tr><td>10305</td></tr>",
            "<tr><td>10314</td></tr>",
            "<tr><td>10324</td></tr>",
            "<tr><td>10327</td></tr>",
            "<tr><td>10329</td></tr>",
            "<tr><td>10330</td></tr>",
            "<tr><td>10332</td></tr>",
            "<tr><td>10333</td></tr>",
            "<tr><td>10335</td></tr>",
            "<tr><td>10336</td></tr>",
            "<tr><td>10339</td></tr>",
            "<tr><td>10340</td></tr>",
            "<tr><td>10341</td></tr>",
            "<tr><td>10342</td></tr>",
            "<tr><td>10343</td></tr>",
            "<tr><td>10344</td></tr>",
            "<tr><td>10346</td></tr>",
            "<tr><td>10347</td></tr>",
            "<tr><td>10348</td></tr>",
            "<tr><td>10350</td></tr>",
            "<tr><td>10351</td></tr>",
            "<tr><td>10352</td></tr>",
            "<tr><td>10353</td></tr>",
            "<tr><td>10357</td></tr>",
            "<tr><td>10358</td></tr>",
            "<tr><td>10359</td></tr>",
            "<tr><td>10361</td></tr>",
            "<tr><td>10368</td></tr>",
            "<tr><td>10369</td></tr>",
            "<tr><td>10370</td></tr>",
            "<tr><td>10371</td></tr>",
            "<tr><td>10372</td></tr>",
            "<tr><td>10373</td></tr>",
            "<tr><td>10376</td></tr>",
            "<tr><td>10377</td></tr>",
            "<tr><td>10379</td></tr>",
            "<tr><td>10380</td></tr>",
            "<tr><td>10385</td></tr>",
            "<tr><td>10388</td></tr>",
            "<tr><td>10390</td></tr>",
            "<tr><td>10393</td></tr>",
            "<tr><td>10395</td></tr>",
            "<tr><td>10397</td></tr>",
            "<tr><td>10398</td></tr>",
            "<tr><td>10403</td></tr>",
            "<tr><td>10404</td></tr>",
            "<tr><td>10406</td></tr>",
            "<tr><td>10411</td></tr>",
            "<tr><td>10412</td></tr>",
            "<tr><td>10414</td></tr>",
            "<tr><td>10417</td></tr>",
            "<tr><td>10419</td></tr>",
            "<tr><td>10420</td></tr>",
            "<tr><td>10421</td></tr>",
            "<tr><td>10424</td></tr>",
            "<tr><td>10425</td></tr>",
            "<tr><td>10429</td></tr>",
            "<tr><td>10430</td></tr>",
            "<tr><td>10431</td></tr>",
            "<tr><td>10434</td></tr>",
            "<tr><td>10436</td></tr>",
            "<tr><td>10438</td></tr>",
            "<tr><td>10440</td></tr>",
            "<tr><td>10443</td></tr>",
            "<tr><td>10446</td></tr>",
            "<tr><td>10450</td></tr>",
            "<tr><td>10451</td></tr>",
            "<tr><td>10452</td></tr>",
            "<tr><td>10453</td></tr>",
            "<tr><td>10454</td></tr>",
            "<tr><td>10456</td></tr>",
            "<tr><td>10459</td></tr>",
            "<tr><td>10460</td></tr>",
            "<tr><td>10461</td></tr>",
            "<tr><td>10464</td></tr>",
            "<tr><td>10465</td></tr>",
            "<tr><td>10469</td></tr>",
            "<tr><td>10472</td></tr>",
            "<tr><td>10475</td></tr>",
            "<tr><td>10476</td></tr>",
            "<tr><td>10477</td></tr>",
            "<tr><td>10478</td></tr>",
            "<tr><td>10483</td></tr>",
            "<tr><td>10485</td></tr>",
            "<tr><td>10487</td></tr>",
            "<tr><td>10488</td></tr>",
            "<tr><td>10489</td></tr>",
            "<tr><td>10491</td></tr>",
            "<tr><td>10492</td></tr>",
            "<tr><td>10493</td></tr>",
            "<tr><td>10496</td></tr>",
            "<tr><td>10500</td></tr>",
            "<tr><td>10506</td></tr>",
            "<tr><td>10507</td></tr>",
            "<tr><td>10510</td></tr>",
            "<tr><td>10511</td></tr>",
            "<tr><td>10512</td></tr>",
            "<tr><td>10513</td></tr>",
            "<tr><td>10515</td></tr>",
            "<tr><td>10516</td></tr>",
            "<tr><td>10519</td></tr>",
            "<tr><td>10522</td></tr>",
            "<tr><td>10523</td></tr>",
            "<tr><td>10525</td></tr>",
            "<tr><td>10526</td></tr>",
            "<tr><td>10527</td></tr>",
            "<tr><td>10528</td></tr>",
            "<tr><td>10533</td></tr>",
            "<tr><td>10534</td></tr>",
            "<tr><td>10535</td></tr>",
            "<tr><td>10536</td></tr>",
            "<tr><td>10541</td></tr>",
            "<tr><td>10542</td></tr>",
            "<tr><td>10543</td></tr>",
            "<tr><td>10547</td></tr>",
            "<tr><td>10548</td></tr>",
            "<tr><td>10549</td></tr>",
            "<tr><td>10550</td></tr>",
            "<tr><td>10551</td></tr>",
            "<tr><td>10554</td></tr>",
            "<tr><td>10555</td></tr>",
            "<tr><td>10559</td></tr>",
            "<tr><td>10560</td></tr>",
            "<tr><td>10562</td></tr>",
            "<tr><td>10564</td></tr>",
            "<tr><td>10565</td></tr>",
            "<tr><td>10566</td></tr>",
            "<tr><td>10567</td></tr>",
            "<tr><td>10569</td></tr>",
            "<tr><td>10570</td></tr>",
            "<tr><td>10571</td></tr>",
            "<tr><td>10572</td></tr>",
            "<tr><td>10580</td></tr>",
            "<tr><td>10581</td></tr>",
            "<tr><td>10583</td></tr>",
            "<tr><td>10584</td></tr>",
            "<tr><td>10586</td></tr>",
            "<tr><td>10588</td></tr>",
            "<tr><td>10590</td></tr>",
            "<tr><td>10592</td></tr>",
            "<tr><td>10593</td></tr>",
            "<tr><td>10595</td></tr>",
            "<tr><td>10596</td></tr>",
            "<tr><td>10597</td></tr>",
            "<tr><td>10602</td></tr>",
            "<tr><td>10603</td></tr>",
            "<tr><td>10604</td></tr>",
            "<tr><td>10605</td></tr>",
            "<tr><td>10606</td></tr>",
            "<tr><td>10610</td></tr>",
            "<tr><td>10613</td></tr>",
            "<tr><td>10616</td></tr>",
            "<tr><td>10617</td></tr>",
            "<tr><td>10622</td></tr>",
            "<tr><td>10623</td></tr>",
            "<tr><td>10627</td></tr>",
            "<tr><td>10630</td></tr>",
            "<tr><td>10631</td></tr>",
            "<tr><td>10632</td></tr>",
            "<tr><td>10633</td></tr>",
            "<tr><td>10635</td></tr>",
            "<tr><td>10637</td></tr>",
            "<tr><td>10640</td></tr>",
            "<tr><td>10642</td></tr>",
            "<tr><td>10643</td></tr>",
            "<tr><td>10644</td></tr>",
            "<tr><td>10646</td></tr>",
            "<tr><td>10648</td></tr>",
            "<tr><td>10650</td></tr>",
            "<tr><td>10651</td></tr>",
            "<tr><td>10652</td></tr>",
            "<tr><td>10653</td></tr>",
            "<tr><td>10654</td></tr>",
            "<tr><td>10655</td></tr>",
            "<tr><td>10656</td></tr>",
            "<tr><td>10658</td></tr>",
            "<tr><td>10659</td></tr>",
            "<tr><td>10661</td></tr>",
            "<tr><td>10663</td></tr>",
            "<tr><td>10664</td></tr>",
            "<tr><td>10667</td></tr>",
            "<tr><td>10668</td></tr>",
            "<tr><td>10672</td></tr>",
            "<tr><td>10677</td></tr>",
            "<tr><td>10680</td></tr>",
            "<tr><td>10681</td></tr>",
            "<tr><td>10686</td></tr>",
            "<tr><td>10687</td></tr>",
            "<tr><td>10688</td></tr>",
            "<tr><td>10689</td></tr>",
            "<tr><td>10690</td></tr>",
            "<tr><td>10693</td></tr>",
            "<tr><td>10697</td></tr>",
            "<tr><td>10698</td></tr>",
            "<tr><td>10700</td></tr>",
            "<tr><td>10701</td></tr>",
            "<tr><td>10707</td></tr>",
            "<tr><td>10712</td></tr>",
            "<tr><td>10714</td></tr>",
            "<tr><td>10717</td></tr>",
            "<tr><td>10719</td></tr>",
            "<tr><td>10721</td></tr>",
            "<tr><td>10727</td></tr>",
            "<tr><td>10730</td></tr>",
            "<tr><td>10731</td></tr>",
            "<tr><td>10735</td></tr>",
            "<tr><td>10740</td></tr>",
            "<tr><td>10741</td></tr>",
            "<tr><td>10743</td></tr>",
            "<tr><td>10744</td></tr>",
            "<tr><td>10750</td></tr>",
            "<tr><td>10751</td></tr>",
            "<tr><td>10755</td></tr>",
            "<tr><td>10756</td></tr>",
            "<tr><td>10760</td></tr>",
            "<tr><td>10761</td></tr>",
            "<tr><td>10764</td></tr>",
            "<tr><td>10765</td></tr>",
            "<tr><td>10769</td></tr>",
            "<tr><td>10770</td></tr>",
            "<tr><td>10773</td></tr>",
            "<tr><td>10774</td></tr>",
            "<tr><td>10776</td></tr>",
            "<tr><td>10777</td></tr>",
            "<tr><td>10781</td></tr>",
            "<tr><td>10784</td></tr>",
            "<tr><td>10786</td></tr>",
            "<tr><td>10787</td></tr>",
            "<tr><td>10788</td></tr>",
            "<tr><td>10790</td></tr>",
            "<tr><td>10791</td></tr>",
            "<tr><td>10794</td></tr>",
            "<tr><td>10795</td></tr>",
            "<tr><td>10796</td></tr>",
            "<tr><td>10799</td></tr>",
            "<tr><td>10800</td></tr>",
            "<tr><td>10801</td></tr>",
            "<tr><td>10802</td></tr>",
            "<tr><td>10803</td></tr>",
            "<tr><td>10804</td></tr>",
            "<tr><td>10806</td></tr>",
            "<tr><td>10808</td></tr>",
            "<tr><td>10812</td></tr>",
            "<tr><td>10813</td></tr>",
            "<tr><td>10814</td></tr>",
            "<tr><td>10816</td></tr>",
            "<tr><td>10817</td></tr>",
            "<tr><td>10823</td></tr>",
            "<tr><td>10832</td></tr>",
            "<tr><td>10833</td></tr>",
            "<tr><td>10834</td></tr>",
            "<tr><td>10835</td></tr>",
            "<tr><td>10837</td></tr>",
            "<tr><td>10838</td></tr>",
            "<tr><td>10839</td></tr>",
            "<tr><td>10840</td></tr>",
            "<tr><td>10843</td></tr>",
            "<tr><td>10845</td></tr>",
            "<tr><td>10847</td></tr>",
            "<tr><td>10849</td></tr>",
            "<tr><td>10850</td></tr>",
            "<tr><td>10851</td></tr>",
            "<tr><td>10854</td></tr>",
            "<tr><td>10855</td></tr>",
            "<tr><td>10857</td></tr>",
            "<tr><td>10859</td></tr>",
            "<tr><td>10863</td></tr>",
            "<tr><td>10865</td></tr>",
            "<tr><td>10866</td></tr>",
            "<tr><td>10868</td></tr>",
            "<tr><td>10871</td></tr>",
            "<tr><td>10872</td></tr>",
            "<tr><td>10875</td></tr>",
            "<tr><td>10877</td></tr>",
            "<tr><td>10878</td></tr>",
            "<tr><td>10880</td></tr>",
            "<tr><td>10882</td></tr>",
            "<tr><td>10884</td></tr>",
            "<tr><td>10891</td></tr>",
            "<tr><td>10892</td></tr>",
            "<tr><td>10894</td></tr>",
            "<tr><td>10899</td></tr>",
            "<tr><td>10900</td></tr>",
            "<tr><td>10902</td></tr>",
            "<tr><td>10905</td></tr>",
            "<tr><td>10908</td></tr>",
            "<tr><td>10912</td></tr>",
            "<tr><td>10913</td></tr>",
            "<tr><td>10918</td></tr>",
            "<tr><td>10923</td></tr>",
            "<tr><td>10924</td></tr>",
            "<tr><td>10925</td></tr>",
            "<tr><td>10930</td></tr>",
            "<tr><td>10931</td></tr>",
            "<tr><td>10932</td></tr>",
            "<tr><td>10935</td></tr>",
            "<tr><td>10936</td></tr>",
            "<tr><td>10938</td></tr>",
            "<tr><td>10939</td></tr>",
            "<tr><td>10941</td></tr>",
            "<tr><td>10944</td></tr>",
            "<tr><td>10951</td></tr>",
            "<tr><td>10952</td></tr>",
            "<tr><td>10953</td></tr>",
            "<tr><td>10954</td></tr>",
            "<tr><td>10955</td></tr>",
            "<tr><td>10959</td></tr>",
            "<tr><td>10960</td></tr>",
            "<tr><td>10961</td></tr>",
            "<tr><td>10963</td></tr>",
            "<tr><td>10966</td></tr>",
            "<tr><td>10970</td></tr>",
            "<tr><td>10978</td></tr>",
            "<tr><td>10980</td></tr>",
            "<tr><td>10983</td></tr>",
            "<tr><td>10985</td></tr>",
            "<tr><td>10988</td></tr>",
            "<tr><td>10990</td></tr>",
            "<tr><td>10991</td></tr>",
            "<tr><td>10993</td></tr>",
            "<tr><td>10994</td></tr>",
            "<tr><td>10997</td></tr>",
            "<tr><td>10999</td></tr>",
            "<tr><td>11000</td></tr>",
            "<tr><td>11002</td></tr>",
            "<tr><td>11006</td></tr>",
            "<tr><td>11008</td></tr>",
            "<tr><td>11009</td></tr>",
            "<tr><td>11011</td></tr>",
            "<tr><td>11012</td></tr>",
            "<tr><td>11014</td></tr>",
            "<tr><td>11020</td></tr>",
            "<tr><td>11021</td></tr>",
            "<tr><td>11025</td></tr>",
            "<tr><td>11027</td></tr>",
            "<tr><td>11030</td></tr>",
            "<tr><td>11033</td></tr>",
            "<tr><td>11034</td></tr>",
            "<tr><td>11038</td></tr>",
            "<tr><td>11041</td></tr>",
            "<tr><td>11046</td></tr>",
            "<tr><td>11047</td></tr>",
            "<tr><td>11049</td></tr>",
            "<tr><td>11050</td></tr>",
            "<tr><td>11051</td></tr>",
            "<tr><td>11052</td></tr>",
            "<tr><td>11053</td></tr>",
            "<tr><td>11062</td></tr>",
            "<tr><td>11063</td></tr>",
            "<tr><td>11064</td></tr>",
            "<tr><td>11065</td></tr>",
            "<tr><td>11068</td></tr>",
            "<tr><td>11070</td></tr>",
            "<tr><td>11071</td></tr>",
            "<tr><td>11074</td></tr>",
            "<tr><td>11075</td></tr>",
            "<tr><td>11076</td></tr>",
            "<tr><td>11077</td></tr>",
            "</table>"
        ]
    }
}
],
            "execution_count": 29
        },
        {
            "cell_type": "markdown",
            "source": [
                "### 4. Pokaż zamówienia, w których co najmniej jedna pozycje była ze zniżką"
            ],
            "metadata": {
                "language": "sql",
                "azdata_cell_guid": "ca9c256c-1294-4040-8826-7b2db2a7eb4c"
            },
            "attachments": {}
        },
        {
            "cell_type": "code",
            "source": [
                ""
            ],
            "metadata": {
                "language": "sql",
                "azdata_cell_guid": "882c9408-33c3-4e3a-a2ef-342e82fdc0e2"
            },
            "outputs": [],
            "execution_count": null
        },
        {
            "cell_type": "markdown",
            "source": [
                ""
            ],
            "metadata": {
                "language": "sql",
                "azdata_cell_guid": "45f75d0b-c742-451c-8b94-598394f38d19"
            },
            "attachments": {}
        }
    ]
}